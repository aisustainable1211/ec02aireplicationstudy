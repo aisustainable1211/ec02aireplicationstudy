{
  "nbformat": 4,
  "nbformat_minor": 0,
  "metadata": {
    "colab": {
      "provenance": []
    },
    "kernelspec": {
      "name": "python3",
      "display_name": "Python 3"
    },
    "language_info": {
      "name": "python"
    }
  },
  "cells": [
    {
      "cell_type": "markdown",
      "source": [
        "**Welcome to the Eco2AI Replication Project**\n"
      ],
      "metadata": {
        "id": "dK8L7-ddSt1i"
      }
    },
    {
      "cell_type": "markdown",
      "source": [
        "This notebook replicates selected results from the paper **\"Eco2AI: A Framework for Energy Consumption and CO₂ Emission Tracking in AI Experiments\"** (Budennyy et al., 2022)."
      ],
      "metadata": {
        "id": "YE_wtJXvS68Z"
      }
    },
    {
      "cell_type": "markdown",
      "source": [
        "The aim of this project was to reproduce key emission tracking outputs by training a simple Convolutional Neural Network (CNN) on the MNIST dataset while logging carbon emissions using the Eco2AI Python package."
      ],
      "metadata": {
        "id": "3P_pdFQjS3dm"
      }
    },
    {
      "cell_type": "markdown",
      "source": [
        "**🛠 Setup instructions\n",
        "If required, install dependencies:**\n",
        "\n",
        "\n"
      ],
      "metadata": {
        "id": "GaojAcuYUdmw"
      }
    },
    {
      "cell_type": "code",
      "source": [
        "!pip install numpy pandas matplotlib pillow torch torchvision eco2ai"
      ],
      "metadata": {
        "colab": {
          "base_uri": "https://localhost:8080/"
        },
        "id": "ElMidmlalZ0c",
        "outputId": "24f96916-a656-4143-c2ec-b98985bdf579"
      },
      "execution_count": 1,
      "outputs": [
        {
          "output_type": "stream",
          "name": "stdout",
          "text": [
            "Requirement already satisfied: numpy in /usr/local/lib/python3.11/dist-packages (2.0.2)\n",
            "Requirement already satisfied: pandas in /usr/local/lib/python3.11/dist-packages (2.2.2)\n",
            "Requirement already satisfied: matplotlib in /usr/local/lib/python3.11/dist-packages (3.10.0)\n",
            "Requirement already satisfied: pillow in /usr/local/lib/python3.11/dist-packages (11.1.0)\n",
            "Requirement already satisfied: torch in /usr/local/lib/python3.11/dist-packages (2.6.0+cu124)\n",
            "Requirement already satisfied: torchvision in /usr/local/lib/python3.11/dist-packages (0.21.0+cu124)\n",
            "Requirement already satisfied: eco2ai in /usr/local/lib/python3.11/dist-packages (0.3.12)\n",
            "Requirement already satisfied: python-dateutil>=2.8.2 in /usr/local/lib/python3.11/dist-packages (from pandas) (2.8.2)\n",
            "Requirement already satisfied: pytz>=2020.1 in /usr/local/lib/python3.11/dist-packages (from pandas) (2025.2)\n",
            "Requirement already satisfied: tzdata>=2022.7 in /usr/local/lib/python3.11/dist-packages (from pandas) (2025.2)\n",
            "Requirement already satisfied: contourpy>=1.0.1 in /usr/local/lib/python3.11/dist-packages (from matplotlib) (1.3.1)\n",
            "Requirement already satisfied: cycler>=0.10 in /usr/local/lib/python3.11/dist-packages (from matplotlib) (0.12.1)\n",
            "Requirement already satisfied: fonttools>=4.22.0 in /usr/local/lib/python3.11/dist-packages (from matplotlib) (4.57.0)\n",
            "Requirement already satisfied: kiwisolver>=1.3.1 in /usr/local/lib/python3.11/dist-packages (from matplotlib) (1.4.8)\n",
            "Requirement already satisfied: packaging>=20.0 in /usr/local/lib/python3.11/dist-packages (from matplotlib) (24.2)\n",
            "Requirement already satisfied: pyparsing>=2.3.1 in /usr/local/lib/python3.11/dist-packages (from matplotlib) (3.2.3)\n",
            "Requirement already satisfied: filelock in /usr/local/lib/python3.11/dist-packages (from torch) (3.18.0)\n",
            "Requirement already satisfied: typing-extensions>=4.10.0 in /usr/local/lib/python3.11/dist-packages (from torch) (4.13.1)\n",
            "Requirement already satisfied: networkx in /usr/local/lib/python3.11/dist-packages (from torch) (3.4.2)\n",
            "Requirement already satisfied: jinja2 in /usr/local/lib/python3.11/dist-packages (from torch) (3.1.6)\n",
            "Requirement already satisfied: fsspec in /usr/local/lib/python3.11/dist-packages (from torch) (2025.3.2)\n",
            "Requirement already satisfied: nvidia-cuda-nvrtc-cu12==12.4.127 in /usr/local/lib/python3.11/dist-packages (from torch) (12.4.127)\n",
            "Requirement already satisfied: nvidia-cuda-runtime-cu12==12.4.127 in /usr/local/lib/python3.11/dist-packages (from torch) (12.4.127)\n",
            "Requirement already satisfied: nvidia-cuda-cupti-cu12==12.4.127 in /usr/local/lib/python3.11/dist-packages (from torch) (12.4.127)\n",
            "Requirement already satisfied: nvidia-cudnn-cu12==9.1.0.70 in /usr/local/lib/python3.11/dist-packages (from torch) (9.1.0.70)\n",
            "Requirement already satisfied: nvidia-cublas-cu12==12.4.5.8 in /usr/local/lib/python3.11/dist-packages (from torch) (12.4.5.8)\n",
            "Requirement already satisfied: nvidia-cufft-cu12==11.2.1.3 in /usr/local/lib/python3.11/dist-packages (from torch) (11.2.1.3)\n",
            "Requirement already satisfied: nvidia-curand-cu12==10.3.5.147 in /usr/local/lib/python3.11/dist-packages (from torch) (10.3.5.147)\n",
            "Requirement already satisfied: nvidia-cusolver-cu12==11.6.1.9 in /usr/local/lib/python3.11/dist-packages (from torch) (11.6.1.9)\n",
            "Requirement already satisfied: nvidia-cusparse-cu12==12.3.1.170 in /usr/local/lib/python3.11/dist-packages (from torch) (12.3.1.170)\n",
            "Requirement already satisfied: nvidia-cusparselt-cu12==0.6.2 in /usr/local/lib/python3.11/dist-packages (from torch) (0.6.2)\n",
            "Requirement already satisfied: nvidia-nccl-cu12==2.21.5 in /usr/local/lib/python3.11/dist-packages (from torch) (2.21.5)\n",
            "Requirement already satisfied: nvidia-nvtx-cu12==12.4.127 in /usr/local/lib/python3.11/dist-packages (from torch) (12.4.127)\n",
            "Requirement already satisfied: nvidia-nvjitlink-cu12==12.4.127 in /usr/local/lib/python3.11/dist-packages (from torch) (12.4.127)\n",
            "Requirement already satisfied: triton==3.2.0 in /usr/local/lib/python3.11/dist-packages (from torch) (3.2.0)\n",
            "Requirement already satisfied: sympy==1.13.1 in /usr/local/lib/python3.11/dist-packages (from torch) (1.13.1)\n",
            "Requirement already satisfied: mpmath<1.4,>=1.1.0 in /usr/local/lib/python3.11/dist-packages (from sympy==1.13.1->torch) (1.3.0)\n",
            "Requirement already satisfied: APScheduler in /usr/local/lib/python3.11/dist-packages (from eco2ai) (3.11.0)\n",
            "Requirement already satisfied: psutil>=5.9.1 in /usr/local/lib/python3.11/dist-packages (from eco2ai) (5.9.5)\n",
            "Requirement already satisfied: py-cpuinfo in /usr/local/lib/python3.11/dist-packages (from eco2ai) (9.0.0)\n",
            "Requirement already satisfied: pynvml in /usr/local/lib/python3.11/dist-packages (from eco2ai) (12.0.0)\n",
            "Requirement already satisfied: requests in /usr/local/lib/python3.11/dist-packages (from eco2ai) (2.32.3)\n",
            "Requirement already satisfied: setuptools in /usr/local/lib/python3.11/dist-packages (from eco2ai) (75.2.0)\n",
            "Requirement already satisfied: tornado in /usr/local/lib/python3.11/dist-packages (from eco2ai) (6.4.2)\n",
            "Requirement already satisfied: tzlocal in /usr/local/lib/python3.11/dist-packages (from eco2ai) (5.3.1)\n",
            "Requirement already satisfied: six>=1.5 in /usr/local/lib/python3.11/dist-packages (from python-dateutil>=2.8.2->pandas) (1.17.0)\n",
            "Requirement already satisfied: MarkupSafe>=2.0 in /usr/local/lib/python3.11/dist-packages (from jinja2->torch) (3.0.2)\n",
            "Requirement already satisfied: nvidia-ml-py<13.0.0a0,>=12.0.0 in /usr/local/lib/python3.11/dist-packages (from pynvml->eco2ai) (12.570.86)\n",
            "Requirement already satisfied: charset-normalizer<4,>=2 in /usr/local/lib/python3.11/dist-packages (from requests->eco2ai) (3.4.1)\n",
            "Requirement already satisfied: idna<4,>=2.5 in /usr/local/lib/python3.11/dist-packages (from requests->eco2ai) (3.10)\n",
            "Requirement already satisfied: urllib3<3,>=1.21.1 in /usr/local/lib/python3.11/dist-packages (from requests->eco2ai) (2.3.0)\n",
            "Requirement already satisfied: certifi>=2017.4.17 in /usr/local/lib/python3.11/dist-packages (from requests->eco2ai) (2025.1.31)\n"
          ]
        }
      ]
    },
    {
      "cell_type": "code",
      "source": [
        "# Suppress Future Warnings for Cleaner Output\n",
        "import warnings\n",
        "warnings.filterwarnings(\"ignore\", category=FutureWarning)\n"
      ],
      "metadata": {
        "id": "7iEK8-VtK6uy"
      },
      "execution_count": 2,
      "outputs": []
    },
    {
      "cell_type": "code",
      "source": [
        "# Import Libraries\n",
        "import eco2ai\n",
        "from eco2ai import track"
      ],
      "metadata": {
        "id": "7TVD7pfJxuMd"
      },
      "execution_count": 3,
      "outputs": []
    },
    {
      "cell_type": "code",
      "source": [
        "# Load Core Libraries for Model Development and Utilities\n",
        "import torch\n",
        "import torch.nn as nn\n",
        "import torch.optim as optim\n",
        "from torchvision import datasets, transforms\n",
        "from torch.utils.data import DataLoader, random_split\n",
        "import matplotlib.pyplot as plt\n",
        "import pandas as pd\n",
        "import numpy as np\n",
        "import random\n",
        "from PIL import Image\n",
        "import os"
      ],
      "metadata": {
        "id": "NakzrAyjyKyE"
      },
      "execution_count": 4,
      "outputs": []
    },
    {
      "cell_type": "code",
      "source": [
        "# Prepare and Load MNSIT Dataset\n",
        "transform = transforms.Compose([transforms.ToTensor(), transforms.Normalize((0.5,), (0.5,))])\n",
        "train_dataset = datasets.MNIST(root='./data', train=True, transform=transform, download=True)\n",
        "test_dataset = datasets.MNIST(root='./data', train=False, transform=transform, download=True)\n",
        "train_dataset"
      ],
      "metadata": {
        "colab": {
          "base_uri": "https://localhost:8080/"
        },
        "id": "6NuudzQczUfz",
        "outputId": "ee3603c6-b5ad-4684-d3ed-8c3975243add"
      },
      "execution_count": 5,
      "outputs": [
        {
          "output_type": "execute_result",
          "data": {
            "text/plain": [
              "Dataset MNIST\n",
              "    Number of datapoints: 60000\n",
              "    Root location: ./data\n",
              "    Split: Train\n",
              "    StandardTransform\n",
              "Transform: Compose(\n",
              "               ToTensor()\n",
              "               Normalize(mean=(0.5,), std=(0.5,))\n",
              "           )"
            ]
          },
          "metadata": {},
          "execution_count": 5
        }
      ]
    },
    {
      "cell_type": "code",
      "source": [
        "# Visualise Sample Images\n",
        "fig, axs = plt.subplots(1, 10, figsize=(25, 3))\n",
        "for i in range(10):\n",
        "    label_indexes = [idx for idx, (_, label) in enumerate(train_dataset) if label == i]\n",
        "    index = random.choice(label_indexes)\n",
        "    img, _ = train_dataset[index]\n",
        "    axs[i].imshow(img.squeeze(), cmap='gray')\n",
        "plt.show()"
      ],
      "metadata": {
        "colab": {
          "base_uri": "https://localhost:8080/",
          "height": 172
        },
        "id": "sicxju7LzvHG",
        "outputId": "73f06963-89f2-43ec-817e-77056537d210"
      },
      "execution_count": 6,
      "outputs": [
        {
          "output_type": "display_data",
          "data": {
            "text/plain": [
              "<Figure size 2500x300 with 10 Axes>"
            ],
            "image/png": "[encoded data removed]"
          },
          "metadata": {}
        }
      ]
    },
    {
      "cell_type": "code",
      "source": [
        "# Create Data Loaders to Prepare Batches for Training and Testing\n",
        "batch_size = 256\n",
        "train_loader = DataLoader(train_dataset, batch_size=batch_size, shuffle=True)\n",
        "test_loader = DataLoader(test_dataset, batch_size=batch_size, shuffle=False)"
      ],
      "metadata": {
        "id": "xONnXox50hH3"
      },
      "execution_count": 7,
      "outputs": []
    },
    {
      "cell_type": "code",
      "source": [
        "# Define the CNN  Model Arhitecture\n",
        "class SimpleCNN(nn.Module):\n",
        "    def __init__(self):\n",
        "        super(SimpleCNN, self).__init__()\n",
        "        self.batch_norm = nn.BatchNorm2d(1)\n",
        "        self.conv1 = nn.Conv2d(1, 16, kernel_size=3, padding=1)\n",
        "        self.conv2 = nn.Conv2d(16, 16, kernel_size=3, padding=1)\n",
        "        self.pool = nn.MaxPool2d(kernel_size=2, stride=2)\n",
        "        self.dropout = nn.Dropout(0.25)\n",
        "        self.flatten = nn.Flatten()\n",
        "        self.fc1 = nn.Linear(16 * 14 * 14, 32)\n",
        "        self.fc2 = nn.Linear(32, 10)\n",
        "\n",
        "    def forward(self, x):\n",
        "        x = self.batch_norm(x)\n",
        "        x = torch.relu(self.conv1(x))\n",
        "        x = torch.relu(self.conv2(x))\n",
        "        x = self.pool(x)\n",
        "        x = self.dropout(x)\n",
        "        x = self.flatten(x)\n",
        "        x = torch.relu(self.fc1(x))\n",
        "        x = self.dropout(x)\n",
        "        x = self.fc2(x)\n",
        "        return x"
      ],
      "metadata": {
        "id": "btJhzyhd2WVG"
      },
      "execution_count": 8,
      "outputs": []
    },
    {
      "cell_type": "code",
      "source": [
        "# Model Training and Evaluation Loop\n",
        "\n",
        "# Train the model and evaluate accuracy on the validation set\n",
        "def train(model, loader, criterion, optimizer, epochs=3):\n",
        "    history = {'train_acc': [], 'val_acc': []}\n",
        "    device = torch.device(\"cuda\" if torch.cuda.is_available() else \"cpu\")\n",
        "\n",
        "    for epoch in range(epochs):\n",
        "        model.train() # Set model to training mode\n",
        "        correct, total = 0, 0 # Track correct predictions and total samples\n",
        "\n",
        "        # Training Loop\n",
        "        for x, y in loader:\n",
        "            x, y = x.to(device), y.to(device) # Move data to GPU or CPU\n",
        "            optimizer.zero_grad() # Clear previous gradients\n",
        "            outputs = model(x) # Forward pass: generate predictions\n",
        "            loss = criterion(outputs, y) # Compute loss against true labels\n",
        "            loss.backward() # Backpropagate gradients\n",
        "            optimizer.step() # Update weights\n",
        "\n",
        "\n",
        "            _, predicted = outputs.max(1) # Get class with highest score\n",
        "            total += y.size(0)\n",
        "            correct += (predicted == y).sum().item()\n",
        "\n",
        "        train_acc = correct / total  # Compute accuracy\n",
        "        history['train_acc'].append(train_acc)\n",
        "\n",
        "        # Validation Loop\n",
        "        model.eval() # Set model to evaluation mode\n",
        "        correct, total = 0, 0\n",
        "        with torch.no_grad(): # Disable gradient tracking during evaluation\n",
        "            for x, y in test_loader:\n",
        "                x, y = x.to(device), y.to(device)\n",
        "                outputs = model(x)\n",
        "                _, predicted = outputs.max(1)\n",
        "                total += y.size(0)\n",
        "                correct += (predicted == y).sum().item()\n",
        "\n",
        "        val_acc = correct / total # Compute validation accuracy\n",
        "        history['val_acc'].append(val_acc)\n",
        "\n",
        "        # Print summary after each epoch\n",
        "        print(f\"Epoch {epoch + 1}/{epochs}, Train Accuracy: {train_acc:.4f}, Val Accuracy: {val_acc:.4f}\")\n",
        "\n",
        "    return history # Return accuracy results for later use\n"
      ],
      "metadata": {
        "id": "YzJ0_8Cg8XAu"
      },
      "execution_count": 9,
      "outputs": []
    },
    {
      "cell_type": "code",
      "source": [
        "# Begin Emissions Tracking and Train Model\n",
        "\n",
        "# Emissions Tracking - Run 1 (3 Epochs, Batch Size = 256)\n",
        "tracker = eco2ai.Tracker(project_name=\"mnist_replication\", experiment_description=\"3 epochs, batch size 256\", file_name=\"emission.csv\")\n",
        "\n",
        "tracker.start() # Begin tracking energy usage and emissions\n",
        "\n",
        "# Define data loaders with a batch size of 256\n",
        "train_loader = DataLoader(train_dataset, batch_size=256, shuffle=True)\n",
        "test_loader = DataLoader(test_dataset, batch_size=256, shuffle=False)\n",
        "\n",
        "# Set up model, loss fucntion and optimiser\n",
        "model = SimpleCNN().to(\"cuda\" if torch.cuda.is_available() else \"cpu\")\n",
        "criterion = nn.CrossEntropyLoss()\n",
        "optimizer = optim.Adam(model.parameters(), lr=0.001)\n",
        "\n",
        "# Train the model for 3 epochs and collect accuracy stats\n",
        "history = train(model, train_loader, criterion, optimizer, epochs=3)\n",
        "\n",
        "tracker.stop() # End emissions tracking\n"
      ],
      "metadata": {
        "colab": {
          "base_uri": "https://localhost:8080/"
        },
        "id": "BXv9z3YC8bTi",
        "outputId": "53f09711-e897-4863-89bd-8bfae6094d4e"
      },
      "execution_count": 10,
      "outputs": [
        {
          "output_type": "stream",
          "name": "stderr",
          "text": [
            "/usr/local/lib/python3.11/dist-packages/eco2ai/emission_track.py:140: UserWarning: \n",
            "If you use a VPN, you may have problems with identifying your country by IP.\n",
            "It is recommended to disable VPN or\n",
            "manually set up the ISO-Alpha-2 code of your country during initialization of the Tracker() class.\n",
            "You can find the ISO-Alpha-2 code of your country here: https://www.iban.com/country-codes\n",
            "\n",
            "  warnings.warn(\n",
            "/usr/local/lib/python3.11/dist-packages/eco2ai/tools/tools_gpu.py:42: NoGPUWarning: There is no any available GPU devices or your GPU is not supported by Nvidia library!\n",
            "The tracker will consider CPU usage only\n",
            "  warnings.warn(\n"
          ]
        },
        {
          "output_type": "stream",
          "name": "stdout",
          "text": [
            "Epoch 1/3, Train Accuracy: 0.8424, Val Accuracy: 0.9653\n",
            "Epoch 2/3, Train Accuracy: 0.9418, Val Accuracy: 0.9770\n",
            "Epoch 3/3, Train Accuracy: 0.9546, Val Accuracy: 0.9814\n"
          ]
        }
      ]
    },
    {
      "cell_type": "code",
      "source": [
        "# Emissions Tracking – Run 2 (2 Epochs, Batch Size = 128)\n",
        "\n",
        "# Trains the same CNN using a smaller batch size (128) and fewer epochs (2)\n",
        "# Useful for comparing how batch size and training time affect emissions and accuracy\n",
        "\n",
        "tracker = eco2ai.Tracker(project_name=\"mnist_replication\", experiment_description=\"2 epochs, batch size 128\", file_name=\"emission.csv\")\n",
        "tracker.start()\n",
        "\n",
        "train_loader = DataLoader(train_dataset, batch_size=128, shuffle=True)\n",
        "test_loader = DataLoader(test_dataset, batch_size=128, shuffle=False)\n",
        "\n",
        "model = SimpleCNN().to(\"cuda\" if torch.cuda.is_available() else \"cpu\")\n",
        "optimizer = optim.Adam(model.parameters(), lr=0.001)\n",
        "\n",
        "history = train(model, train_loader, criterion, optimizer, epochs=2)\n",
        "\n",
        "tracker.stop()\n"
      ],
      "metadata": {
        "colab": {
          "base_uri": "https://localhost:8080/"
        },
        "id": "luRTCyrq8g3O",
        "outputId": "82ca595f-27ce-492e-cb76-de4cdad0aae2"
      },
      "execution_count": 11,
      "outputs": [
        {
          "output_type": "stream",
          "name": "stderr",
          "text": [
            "/usr/local/lib/python3.11/dist-packages/eco2ai/emission_track.py:140: UserWarning: \n",
            "If you use a VPN, you may have problems with identifying your country by IP.\n",
            "It is recommended to disable VPN or\n",
            "manually set up the ISO-Alpha-2 code of your country during initialization of the Tracker() class.\n",
            "You can find the ISO-Alpha-2 code of your country here: https://www.iban.com/country-codes\n",
            "\n",
            "  warnings.warn(\n",
            "/usr/local/lib/python3.11/dist-packages/eco2ai/tools/tools_gpu.py:42: NoGPUWarning: There is no any available GPU devices or your GPU is not supported by Nvidia library!\n",
            "The tracker will consider CPU usage only\n",
            "  warnings.warn(\n"
          ]
        },
        {
          "output_type": "stream",
          "name": "stdout",
          "text": [
            "Epoch 1/2, Train Accuracy: 0.8971, Val Accuracy: 0.9738\n",
            "Epoch 2/2, Train Accuracy: 0.9592, Val Accuracy: 0.9833\n"
          ]
        }
      ]
    },
    {
      "cell_type": "code",
      "source": [
        "# Emissions Tracking – Run 3 (4 Epochs, Batch Size = 64)\n",
        "tracker = eco2ai.Tracker(project_name=\"mnist_replication\", experiment_description=\"4 epochs, batch size 64, SGD\", file_name=\"emission.csv\")\n",
        "tracker.start()\n",
        "\n",
        "train_loader = DataLoader(train_dataset, batch_size=64, shuffle=True)\n",
        "test_loader = DataLoader(test_dataset, batch_size=64, shuffle=False)\n",
        "\n",
        "model = SimpleCNN().to(\"cuda\" if torch.cuda.is_available() else \"cpu\")\n",
        "optimizer = optim.SGD(model.parameters(), lr=0.01)\n",
        "\n",
        "history = train(model, train_loader, criterion, optimizer, epochs=4)\n",
        "\n",
        "tracker.stop()\n"
      ],
      "metadata": {
        "colab": {
          "base_uri": "https://localhost:8080/"
        },
        "id": "frzSk2XO8kbX",
        "outputId": "538823d6-bccd-4ff2-ffe2-bd4e1e285bd1"
      },
      "execution_count": 12,
      "outputs": [
        {
          "output_type": "stream",
          "name": "stderr",
          "text": [
            "/usr/local/lib/python3.11/dist-packages/eco2ai/emission_track.py:140: UserWarning: \n",
            "If you use a VPN, you may have problems with identifying your country by IP.\n",
            "It is recommended to disable VPN or\n",
            "manually set up the ISO-Alpha-2 code of your country during initialization of the Tracker() class.\n",
            "You can find the ISO-Alpha-2 code of your country here: https://www.iban.com/country-codes\n",
            "\n",
            "  warnings.warn(\n",
            "/usr/local/lib/python3.11/dist-packages/eco2ai/tools/tools_gpu.py:42: NoGPUWarning: There is no any available GPU devices or your GPU is not supported by Nvidia library!\n",
            "The tracker will consider CPU usage only\n",
            "  warnings.warn(\n"
          ]
        },
        {
          "output_type": "stream",
          "name": "stdout",
          "text": [
            "Epoch 1/4, Train Accuracy: 0.7533, Val Accuracy: 0.9277\n",
            "Epoch 2/4, Train Accuracy: 0.8860, Val Accuracy: 0.9443\n",
            "Epoch 3/4, Train Accuracy: 0.9179, Val Accuracy: 0.9632\n",
            "Epoch 4/4, Train Accuracy: 0.9401, Val Accuracy: 0.9728\n"
          ]
        }
      ]
    },
    {
      "cell_type": "code",
      "source": [
        "# Load the emissions CSV and display the last 3 tracked runs\n",
        "df = pd.read_csv(\"emission.csv\")\n",
        "display(df.tail(3))"
      ],
      "metadata": {
        "colab": {
          "base_uri": "https://localhost:8080/",
          "height": 299
        },
        "id": "jS0JjYUR8mgb",
        "outputId": "c6e771ad-e8a4-4bba-f451-6b2b96d30c65"
      },
      "execution_count": 13,
      "outputs": [
        {
          "output_type": "display_data",
          "data": {
            "text/plain": [
              "                                     id       project_name  \\\n",
              "4  a3527c9a-e6b4-4642-918c-73f2de04af6b  mnist_replication   \n",
              "5  9e9cc9e2-f858-4f1c-93fe-0f958c2518f6  mnist_replication   \n",
              "6  d9307c2c-bab3-40fb-83a1-53b28f789872  mnist_replication   \n",
              "\n",
              "         experiment_description  epoch           start_time  duration(s)  \\\n",
              "4      3 epochs, batch size 256    NaN  2025-04-07 23:18:14   201.645605   \n",
              "5      2 epochs, batch size 128    NaN  2025-04-07 23:21:37   115.242874   \n",
              "6  4 epochs, batch size 64, SGD    NaN  2025-04-07 23:23:34   231.069237   \n",
              "\n",
              "   power_consumption(kWh)  CO2_emissions(kg)  \\\n",
              "4                0.001684           0.000411   \n",
              "5                0.000942           0.000230   \n",
              "6                0.001967           0.000480   \n",
              "\n",
              "                                            CPU_name      GPU_name     OS  \\\n",
              "4  Intel(R) Xeon(R) CPU @ 2.20GHz/1 device(s), TD...   0 device(s)  Linux   \n",
              "5  Intel(R) Xeon(R) CPU @ 2.20GHz/1 device(s), TD...   0 device(s)  Linux   \n",
              "6  Intel(R) Xeon(R) CPU @ 2.20GHz/1 device(s), TD...   0 device(s)  Linux   \n",
              "\n",
              "      region/country  cost  \n",
              "4  US/South Carolina     0  \n",
              "5  US/South Carolina     0  \n",
              "6  US/South Carolina     0  "
            ],
            "text/html": [
              "\n",
              "  <div id=\"df-ae2e7420-b0e6-4d82-adb1-935aca945f28\" class=\"colab-df-container\">\n",
              "    <div>\n",
              "<style scoped>\n",
              "    .dataframe tbody tr th:only-of-type {\n",
              "        vertical-align: middle;\n",
              "    }\n",
              "\n",
              "    .dataframe tbody tr th {\n",
              "        vertical-align: top;\n",
              "    }\n",
              "\n",
              "    .dataframe thead th {\n",
              "        text-align: right;\n",
              "    }\n",
              "</style>\n",
              "<table border=\"1\" class=\"dataframe\">\n",
              "  <thead>\n",
              "    <tr style=\"text-align: right;\">\n",
              "      <th></th>\n",
              "      <th>id</th>\n",
              "      <th>project_name</th>\n",
              "      <th>experiment_description</th>\n",
              "      <th>epoch</th>\n",
              "      <th>start_time</th>\n",
              "      <th>duration(s)</th>\n",
              "      <th>power_consumption(kWh)</th>\n",
              "      <th>CO2_emissions(kg)</th>\n",
              "      <th>CPU_name</th>\n",
              "      <th>GPU_name</th>\n",
              "      <th>OS</th>\n",
              "      <th>region/country</th>\n",
              "      <th>cost</th>\n",
              "    </tr>\n",
              "  </thead>\n",
              "  <tbody>\n",
              "    <tr>\n",
              "      <th>4</th>\n",
              "      <td>a3527c9a-e6b4-4642-918c-73f2de04af6b</td>\n",
              "      <td>mnist_replication</td>\n",
              "      <td>3 epochs, batch size 256</td>\n",
              "      <td>NaN</td>\n",
              "      <td>2025-04-07 23:18:14</td>\n",
              "      <td>201.645605</td>\n",
              "      <td>0.001684</td>\n",
              "      <td>0.000411</td>\n",
              "      <td>Intel(R) Xeon(R) CPU @ 2.20GHz/1 device(s), TD...</td>\n",
              "      <td>0 device(s)</td>\n",
              "      <td>Linux</td>\n",
              "      <td>US/South Carolina</td>\n",
              "      <td>0</td>\n",
              "    </tr>\n",
              "    <tr>\n",
              "      <th>5</th>\n",
              "      <td>9e9cc9e2-f858-4f1c-93fe-0f958c2518f6</td>\n",
              "      <td>mnist_replication</td>\n",
              "      <td>2 epochs, batch size 128</td>\n",
              "      <td>NaN</td>\n",
              "      <td>2025-04-07 23:21:37</td>\n",
              "      <td>115.242874</td>\n",
              "      <td>0.000942</td>\n",
              "      <td>0.000230</td>\n",
              "      <td>Intel(R) Xeon(R) CPU @ 2.20GHz/1 device(s), TD...</td>\n",
              "      <td>0 device(s)</td>\n",
              "      <td>Linux</td>\n",
              "      <td>US/South Carolina</td>\n",
              "      <td>0</td>\n",
              "    </tr>\n",
              "    <tr>\n",
              "      <th>6</th>\n",
              "      <td>d9307c2c-bab3-40fb-83a1-53b28f789872</td>\n",
              "      <td>mnist_replication</td>\n",
              "      <td>4 epochs, batch size 64, SGD</td>\n",
              "      <td>NaN</td>\n",
              "      <td>2025-04-07 23:23:34</td>\n",
              "      <td>231.069237</td>\n",
              "      <td>0.001967</td>\n",
              "      <td>0.000480</td>\n",
              "      <td>Intel(R) Xeon(R) CPU @ 2.20GHz/1 device(s), TD...</td>\n",
              "      <td>0 device(s)</td>\n",
              "      <td>Linux</td>\n",
              "      <td>US/South Carolina</td>\n",
              "      <td>0</td>\n",
              "    </tr>\n",
              "  </tbody>\n",
              "</table>\n",
              "</div>\n",
              "    <div class=\"colab-df-buttons\">\n",
              "\n",
              "  <div class=\"colab-df-container\">\n",
              "    <button class=\"colab-df-convert\" onclick=\"convertToInteractive('df-ae2e7420-b0e6-4d82-adb1-935aca945f28')\"\n",
              "            title=\"Convert this dataframe to an interactive table.\"\n",
              "            style=\"display:none;\">\n",
              "\n",
              "  <svg xmlns=\"http://www.w3.org/2000/svg\" height=\"24px\" viewBox=\"0 -960 960 960\">\n",
              "    <path d=\"M120-120v-720h720v720H120Zm60-500h600v-160H180v160Zm220 220h160v-160H400v160Zm0 220h160v-160H400v160ZM180-400h160v-160H180v160Zm440 0h160v-160H620v160ZM180-180h160v-160H180v160Zm440 0h160v-160H620v160Z\"/>\n",
              "  </svg>\n",
              "    </button>\n",
              "\n",
              "  <style>\n",
              "    .colab-df-container {\n",
              "      display:flex;\n",
              "      gap: 12px;\n",
              "    }\n",
              "\n",
              "    .colab-df-convert {\n",
              "      background-color: #E8F0FE;\n",
              "      border: none;\n",
              "      border-radius: 50%;\n",
              "      cursor: pointer;\n",
              "      display: none;\n",
              "      fill: #1967D2;\n",
              "      height: 32px;\n",
              "      padding: 0 0 0 0;\n",
              "      width: 32px;\n",
              "    }\n",
              "\n",
              "    .colab-df-convert:hover {\n",
              "      background-color: #E2EBFA;\n",
              "      box-shadow: 0px 1px 2px rgba(60, 64, 67, 0.3), 0px 1px 3px 1px rgba(60, 64, 67, 0.15);\n",
              "      fill: #174EA6;\n",
              "    }\n",
              "\n",
              "    .colab-df-buttons div {\n",
              "      margin-bottom: 4px;\n",
              "    }\n",
              "\n",
              "    [theme=dark] .colab-df-convert {\n",
              "      background-color: #3B4455;\n",
              "      fill: #D2E3FC;\n",
              "    }\n",
              "\n",
              "    [theme=dark] .colab-df-convert:hover {\n",
              "      background-color: #434B5C;\n",
              "      box-shadow: 0px 1px 3px 1px rgba(0, 0, 0, 0.15);\n",
              "      filter: drop-shadow(0px 1px 2px rgba(0, 0, 0, 0.3));\n",
              "      fill: #FFFFFF;\n",
              "    }\n",
              "  </style>\n",
              "\n",
              "    <script>\n",
              "      const buttonEl =\n",
              "        document.querySelector('#df-ae2e7420-b0e6-4d82-adb1-935aca945f28 button.colab-df-convert');\n",
              "      buttonEl.style.display =\n",
              "        google.colab.kernel.accessAllowed ? 'block' : 'none';\n",
              "\n",
              "      async function convertToInteractive(key) {\n",
              "        const element = document.querySelector('#df-ae2e7420-b0e6-4d82-adb1-935aca945f28');\n",
              "        const dataTable =\n",
              "          await google.colab.kernel.invokeFunction('convertToInteractive',\n",
              "                                                    [key], {});\n",
              "        if (!dataTable) return;\n",
              "\n",
              "        const docLinkHtml = 'Like what you see? Visit the ' +\n",
              "          '<a target=\"_blank\" href=https://colab.research.google.com/notebooks/data_table.ipynb>data table notebook</a>'\n",
              "          + ' to learn more about interactive tables.';\n",
              "        element.innerHTML = '';\n",
              "        dataTable['output_type'] = 'display_data';\n",
              "        await google.colab.output.renderOutput(dataTable, element);\n",
              "        const docLink = document.createElement('div');\n",
              "        docLink.innerHTML = docLinkHtml;\n",
              "        element.appendChild(docLink);\n",
              "      }\n",
              "    </script>\n",
              "  </div>\n",
              "\n",
              "\n",
              "<div id=\"df-a1d4274c-21a4-4395-b4bb-a38478d73019\">\n",
              "  <button class=\"colab-df-quickchart\" onclick=\"quickchart('df-a1d4274c-21a4-4395-b4bb-a38478d73019')\"\n",
              "            title=\"Suggest charts\"\n",
              "            style=\"display:none;\">\n",
              "\n",
              "<svg xmlns=\"http://www.w3.org/2000/svg\" height=\"24px\"viewBox=\"0 0 24 24\"\n",
              "     width=\"24px\">\n",
              "    <g>\n",
              "        <path d=\"M19 3H5c-1.1 0-2 .9-2 2v14c0 1.1.9 2 2 2h14c1.1 0 2-.9 2-2V5c0-1.1-.9-2-2-2zM9 17H7v-7h2v7zm4 0h-2V7h2v10zm4 0h-2v-4h2v4z\"/>\n",
              "    </g>\n",
              "</svg>\n",
              "  </button>\n",
              "\n",
              "<style>\n",
              "  .colab-df-quickchart {\n",
              "      --bg-color: #E8F0FE;\n",
              "      --fill-color: #1967D2;\n",
              "      --hover-bg-color: #E2EBFA;\n",
              "      --hover-fill-color: #174EA6;\n",
              "      --disabled-fill-color: #AAA;\n",
              "      --disabled-bg-color: #DDD;\n",
              "  }\n",
              "\n",
              "  [theme=dark] .colab-df-quickchart {\n",
              "      --bg-color: #3B4455;\n",
              "      --fill-color: #D2E3FC;\n",
              "      --hover-bg-color: #434B5C;\n",
              "      --hover-fill-color: #FFFFFF;\n",
              "      --disabled-bg-color: #3B4455;\n",
              "      --disabled-fill-color: #666;\n",
              "  }\n",
              "\n",
              "  .colab-df-quickchart {\n",
              "    background-color: var(--bg-color);\n",
              "    border: none;\n",
              "    border-radius: 50%;\n",
              "    cursor: pointer;\n",
              "    display: none;\n",
              "    fill: var(--fill-color);\n",
              "    height: 32px;\n",
              "    padding: 0;\n",
              "    width: 32px;\n",
              "  }\n",
              "\n",
              "  .colab-df-quickchart:hover {\n",
              "    background-color: var(--hover-bg-color);\n",
              "    box-shadow: 0 1px 2px rgba(60, 64, 67, 0.3), 0 1px 3px 1px rgba(60, 64, 67, 0.15);\n",
              "    fill: var(--button-hover-fill-color);\n",
              "  }\n",
              "\n",
              "  .colab-df-quickchart-complete:disabled,\n",
              "  .colab-df-quickchart-complete:disabled:hover {\n",
              "    background-color: var(--disabled-bg-color);\n",
              "    fill: var(--disabled-fill-color);\n",
              "    box-shadow: none;\n",
              "  }\n",
              "\n",
              "  .colab-df-spinner {\n",
              "    border: 2px solid var(--fill-color);\n",
              "    border-color: transparent;\n",
              "    border-bottom-color: var(--fill-color);\n",
              "    animation:\n",
              "      spin 1s steps(1) infinite;\n",
              "  }\n",
              "\n",
              "  @keyframes spin {\n",
              "    0% {\n",
              "      border-color: transparent;\n",
              "      border-bottom-color: var(--fill-color);\n",
              "      border-left-color: var(--fill-color);\n",
              "    }\n",
              "    20% {\n",
              "      border-color: transparent;\n",
              "      border-left-color: var(--fill-color);\n",
              "      border-top-color: var(--fill-color);\n",
              "    }\n",
              "    30% {\n",
              "      border-color: transparent;\n",
              "      border-left-color: var(--fill-color);\n",
              "      border-top-color: var(--fill-color);\n",
              "      border-right-color: var(--fill-color);\n",
              "    }\n",
              "    40% {\n",
              "      border-color: transparent;\n",
              "      border-right-color: var(--fill-color);\n",
              "      border-top-color: var(--fill-color);\n",
              "    }\n",
              "    60% {\n",
              "      border-color: transparent;\n",
              "      border-right-color: var(--fill-color);\n",
              "    }\n",
              "    80% {\n",
              "      border-color: transparent;\n",
              "      border-right-color: var(--fill-color);\n",
              "      border-bottom-color: var(--fill-color);\n",
              "    }\n",
              "    90% {\n",
              "      border-color: transparent;\n",
              "      border-bottom-color: var(--fill-color);\n",
              "    }\n",
              "  }\n",
              "</style>\n",
              "\n",
              "  <script>\n",
              "    async function quickchart(key) {\n",
              "      const quickchartButtonEl =\n",
              "        document.querySelector('#' + key + ' button');\n",
              "      quickchartButtonEl.disabled = true;  // To prevent multiple clicks.\n",
              "      quickchartButtonEl.classList.add('colab-df-spinner');\n",
              "      try {\n",
              "        const charts = await google.colab.kernel.invokeFunction(\n",
              "            'suggestCharts', [key], {});\n",
              "      } catch (error) {\n",
              "        console.error('Error during call to suggestCharts:', error);\n",
              "      }\n",
              "      quickchartButtonEl.classList.remove('colab-df-spinner');\n",
              "      quickchartButtonEl.classList.add('colab-df-quickchart-complete');\n",
              "    }\n",
              "    (() => {\n",
              "      let quickchartButtonEl =\n",
              "        document.querySelector('#df-a1d4274c-21a4-4395-b4bb-a38478d73019 button');\n",
              "      quickchartButtonEl.style.display =\n",
              "        google.colab.kernel.accessAllowed ? 'block' : 'none';\n",
              "    })();\n",
              "  </script>\n",
              "</div>\n",
              "\n",
              "    </div>\n",
              "  </div>\n"
            ],
            "application/vnd.google.colaboratory.intrinsic+json": {
              "type": "dataframe",
              "repr_error": "0"
            }
          },
          "metadata": {}
        }
      ]
    }
  ]
}